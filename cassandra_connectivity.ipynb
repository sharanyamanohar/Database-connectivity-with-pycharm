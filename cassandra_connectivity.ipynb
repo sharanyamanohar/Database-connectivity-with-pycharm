{
 "cells": [
  {
   "cell_type": "markdown",
   "id": "2eba586f",
   "metadata": {},
   "source": [
    "# Cassandra connectivity"
   ]
  },
  {
   "cell_type": "code",
   "execution_count": null,
   "id": "e223f43e",
   "metadata": {},
   "outputs": [],
   "source": [
    "#sharing the website to connect\n",
    "https://astra.datastax.com"
   ]
  },
  {
   "cell_type": "markdown",
   "id": "271b9718",
   "metadata": {},
   "source": [
    "Prerequisites\n",
    "1)Use the Download Bundle button at the top of this page to obtain connection credentials to your database.\n",
    "2)Download and install a supported Python version. Python 2.7, 3.4, 3.5 and 3.6 are supported.\n",
    "3)An Application Token (create a new one here) with the appropriate role set (RO User is needed for example below)."
   ]
  },
  {
   "cell_type": "code",
   "execution_count": null,
   "id": "761e8ccc",
   "metadata": {},
   "outputs": [],
   "source": [
    "#1st step-connectivity towards local system"
   ]
  },
  {
   "cell_type": "code",
   "execution_count": 1,
   "id": "0060664b",
   "metadata": {},
   "outputs": [
    {
     "name": "stdout",
     "output_type": "stream",
     "text": [
      "Collecting cassandra-driver\n",
      "  Using cached cassandra-driver-3.25.0.tar.gz (289 kB)\n",
      "Requirement already satisfied: six>=1.9 in c:\\users\\sharanya\\anaconda3\\lib\\site-packages (from cassandra-driver) (1.16.0)\n",
      "Collecting geomet<0.3,>=0.1\n",
      "  Using cached geomet-0.2.1.post1-py3-none-any.whl (18 kB)\n",
      "Requirement already satisfied: click in c:\\users\\sharanya\\anaconda3\\lib\\site-packages (from geomet<0.3,>=0.1->cassandra-driver) (8.0.4)\n",
      "Requirement already satisfied: colorama in c:\\users\\sharanya\\anaconda3\\lib\\site-packages (from click->geomet<0.3,>=0.1->cassandra-driver) (0.4.4)\n",
      "Building wheels for collected packages: cassandra-driver\n",
      "  Building wheel for cassandra-driver (setup.py): started\n",
      "  Building wheel for cassandra-driver (setup.py): finished with status 'done'\n",
      "  Created wheel for cassandra-driver: filename=cassandra_driver-3.25.0-cp39-cp39-win_amd64.whl size=329419 sha256=cf79318c5d999643ac87ca9ea8201b63fb8b798799f44840dd4ec0f87b9f3c8c\n",
      "  Stored in directory: c:\\users\\sharanya\\appdata\\local\\pip\\cache\\wheels\\3d\\bd\\75\\12875d7c70c5b18e8738c9e06f2d3f5b752fa372917c663fcc\n",
      "Successfully built cassandra-driver\n",
      "Installing collected packages: geomet, cassandra-driver\n",
      "Successfully installed cassandra-driver-3.25.0 geomet-0.2.1.post1\n"
     ]
    }
   ],
   "source": [
    "!pip install cassandra-driver"
   ]
  },
  {
   "cell_type": "code",
   "execution_count": null,
   "id": "6dfa9dcc",
   "metadata": {},
   "outputs": [],
   "source": [
    "#2nd-step\n",
    "#Verify that the DataStax Python driver installed successfully:"
   ]
  },
  {
   "cell_type": "code",
   "execution_count": 2,
   "id": "cf7731be",
   "metadata": {},
   "outputs": [
    {
     "name": "stdout",
     "output_type": "stream",
     "text": [
      "3.25.0\n"
     ]
    }
   ],
   "source": [
    "import cassandra\n",
    "print (cassandra.__version__)"
   ]
  },
  {
   "cell_type": "code",
   "execution_count": null,
   "id": "d4a437b2",
   "metadata": {},
   "outputs": [],
   "source": [
    "#3rd-step\n",
    "#Copy the following connection code into the connect_database.py file:"
   ]
  },
  {
   "cell_type": "code",
   "execution_count": 3,
   "id": "588ed625",
   "metadata": {},
   "outputs": [
    {
     "name": "stdout",
     "output_type": "stream",
     "text": [
      "4.0.0.6816\n"
     ]
    }
   ],
   "source": [
    "from cassandra.cluster import Cluster\n",
    "from cassandra.auth import PlainTextAuthProvider\n",
    "\n",
    "cloud_config= {\n",
    "        'secure_connect_bundle': 'D:\\secure-connect-testing.zip'#give the path where you have downloaded the bundle zip file\n",
    "}\n",
    "\n",
    "#get the client id and client secret at organisation setting and generate the token\n",
    "auth_provider = PlainTextAuthProvider('DQnRqTLJokfYnggpffNBZCmv', '_XyY0t64XeSYkrM97YEf_x2grg_IKBC_FGG_NwuyMMZn1fR+rrF6Jx-sWSOvMOf,DlbN5tK-t6KHB,RsETn1R2vxhj-NkLGhwZPBZO89zKM2jBkWboyGX5uKwDAENArx')\n",
    "cluster = Cluster(cloud=cloud_config, auth_provider=auth_provider)\n",
    "session = cluster.connect()\n",
    "\n",
    "row = session.execute(\"select release_version from system.local\").one()\n",
    "if row:\n",
    "    print(row[0])\n",
    "else:\n",
    "    print(\"An error occurred.\")"
   ]
  },
  {
   "cell_type": "code",
   "execution_count": null,
   "id": "65e63a1a",
   "metadata": {},
   "outputs": [],
   "source": [
    "#as this is done for global-cloud system even can be done with the local system also"
   ]
  }
 ],
 "metadata": {
  "kernelspec": {
   "display_name": "Python 3 (ipykernel)",
   "language": "python",
   "name": "python3"
  },
  "language_info": {
   "codemirror_mode": {
    "name": "ipython",
    "version": 3
   },
   "file_extension": ".py",
   "mimetype": "text/x-python",
   "name": "python",
   "nbconvert_exporter": "python",
   "pygments_lexer": "ipython3",
   "version": "3.9.12"
  }
 },
 "nbformat": 4,
 "nbformat_minor": 5
}
